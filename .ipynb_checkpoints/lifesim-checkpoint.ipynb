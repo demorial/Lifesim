{
 "cells": [
  {
   "cell_type": "code",
   "execution_count": null,
   "metadata": {},
   "outputs": [],
   "source": [
    "#life sim\n"
   ]
  },
  {
   "cell_type": "code",
   "execution_count": 1,
   "metadata": {},
   "outputs": [],
   "source": [
    "import random\n",
    "import time\n",
    "import random\n",
    "import numpy as np"
   ]
  },
  {
   "cell_type": "code",
   "execution_count": 2,
   "metadata": {},
   "outputs": [
    {
     "name": "stdout",
     "output_type": "stream",
     "text": [
      "hello\n",
      "there\n"
     ]
    }
   ],
   "source": [
    "print(\"hello\")\n",
    "time.sleep(3)\n",
    "print(\"there\")"
   ]
  },
  {
   "cell_type": "code",
   "execution_count": 3,
   "metadata": {},
   "outputs": [],
   "source": [
    "def intro():\n",
    "    \n",
    "    print(\"Welcome you where born in an affair \")\n",
    "    print(\"Your name is  \")\n",
    "    print(\"You are born in America\")\n",
    "    print()"
   ]
  },
  {
   "cell_type": "code",
   "execution_count": 11,
   "metadata": {},
   "outputs": [],
   "source": [
    "names=[\"Jacobus\",\"Ruan\",\"Dina\",\"Michael\",\"Brendan\",\"Shana\",\"Dirk\",\"Werner\"]\n",
    "country=[\"Amreica\",\"France\",\"Australia\",\"Switzerland\",\"China\",\"Scotland\",\"Portugal\",\"South Africa\",\"Argentina\",\"Mexico\",\"Nigeria\",\"India\",]\n",
    "concieved=[\"an affair\",\"a planned pregnancy\",\"a scandal\",\"a Lab\",\"an adoption\",\"a cardboard box\"]\n",
    "health=[]\n",
    "happiness=[]\n",
    "intelligence=[]\n",
    "\n",
    "looks=[]\n",
    "age=0\n",
    "def intro():\n",
    "    \n",
    "    \n",
    "    \n",
    "    \n",
    "    a=random.randint(0,len(concieved)-1)\n",
    "    b=random.randint(0,7)\n",
    "    c=random.randint(0,len(country)-1)\n",
    "    print(\"Welcome you were born in \",concieved[a])\n",
    "    print(\"Your name is:\",names[b] )\n",
    "    print(\"You are born in:\",country[c])\n",
    "    print()\n",
    "    print(\"age :\",age)\n",
    "    print()\n",
    "    if  a== 5:\n",
    "        print(\"unfortunately your parents did not love you enough and left you to die\")\n",
    "        print()\n",
    "        print(\"game over\")\n",
    "    else:    \n",
    "        print(\"your stats at birth are:\")\n",
    "        \n",
    "        if c <= 6 :\n",
    "            health=100\n",
    "            happiness=random.randint(80,100)\n",
    "            intelligence=random.randint(40,100)\n",
    "            looks=random.randint(0,100)\n",
    "            print(\"health:\",health)\n",
    "            print(\"happiness:\",happiness)\n",
    "            print(\"intelligence:\",intelligence)\n",
    "            print(\"Looks:\",looks)\n",
    "        elif c > 6 and c <= 9:\n",
    "            health=random.randint(60,90)\n",
    "            happiness=random.randint(0,80)\n",
    "            intelligence=random.randint(10,100)\n",
    "            looks=random.randint(0,100)\n",
    "            print(\"health:\",health)\n",
    "            print(\"happiness:\",happiness)\n",
    "            print(\"intelligence:\",intelligence)\n",
    "            print(\"Looks:\",looks)\n",
    "        elif c> 10:\n",
    "            health=random.randint(5,50)\n",
    "            happiness=random.randint(0,70)\n",
    "            intelligence=random.randint(10,100)\n",
    "            looks=random.randint(0,100)\n",
    "            print(\"health:\",health)\n",
    "            print(\"happiness:\",happiness)\n",
    "            print(\"intelligence:\",intelligence)\n",
    "            print(\"Looks:\",looks)\n",
    "            \n",
    "    \n",
    "def path():\n",
    "    \n",
    "    path = \"\"\n",
    "    while path != \"1\" and path != \"2\":\n",
    "        path = input (\"which path will you take? (1 or 2): \")\n",
    "        \n",
    "    return path\n",
    "\n",
    "def checkpath(path):\n",
    "    print(\"You age up\")\n",
    "    time.sleep(2)\n",
    "    print(:)\n",
    "    "
   ]
  },
  {
   "cell_type": "code",
   "execution_count": 16,
   "metadata": {},
   "outputs": [
    {
     "name": "stdout",
     "output_type": "stream",
     "text": [
      "Welcome you were born in  a Lab\n",
      "Your name is: Dina\n",
      "You are born in: India\n",
      "\n",
      "age : 0\n",
      "\n",
      "your stats at birth are:\n",
      "health: 36\n",
      "happiness: 57\n",
      "intelligence: 80\n",
      "Looks: 34\n"
     ]
    }
   ],
   "source": [
    "intro()"
   ]
  },
  {
   "cell_type": "code",
   "execution_count": null,
   "metadata": {},
   "outputs": [],
   "source": []
  },
  {
   "cell_type": "code",
   "execution_count": null,
   "metadata": {},
   "outputs": [],
   "source": []
  },
  {
   "cell_type": "code",
   "execution_count": null,
   "metadata": {},
   "outputs": [],
   "source": []
  },
  {
   "cell_type": "code",
   "execution_count": null,
   "metadata": {},
   "outputs": [],
   "source": []
  },
  {
   "cell_type": "code",
   "execution_count": null,
   "metadata": {},
   "outputs": [],
   "source": []
  }
 ],
 "metadata": {
  "kernelspec": {
   "display_name": "Python 3",
   "language": "python",
   "name": "python3"
  },
  "language_info": {
   "codemirror_mode": {
    "name": "ipython",
    "version": 3
   },
   "file_extension": ".py",
   "mimetype": "text/x-python",
   "name": "python",
   "nbconvert_exporter": "python",
   "pygments_lexer": "ipython3",
   "version": "3.7.1"
  }
 },
 "nbformat": 4,
 "nbformat_minor": 2
}
